{
 "cells": [
  {
   "cell_type": "code",
   "execution_count": 1,
   "metadata": {},
   "outputs": [
    {
     "name": "stdout",
     "output_type": "stream",
     "text": [
      "Extracting customers.zip...\n",
      "customers.zip extracted successfully!\n",
      "Extracting orders.zip...\n",
      "orders.zip extracted successfully!\n",
      "Extracting products.zip...\n",
      "products.zip extracted successfully!\n",
      "Extracting Subscribers.zip...\n",
      "Subscribers.zip extracted successfully!\n",
      "Extracting ZipCensus.zip...\n",
      "ZipCensus.zip extracted successfully!\n",
      "Extracting ZipCensus_ss.zip...\n",
      "ZipCensus_ss.zip extracted successfully!\n",
      "Extracting zipcounty.zip...\n",
      "zipcounty.zip extracted successfully!\n"
     ]
    }
   ],
   "source": [
    "import zipfile\n",
    "import os\n",
    "\n",
    "def extract_zip_files(directory):\n",
    "    # List all files in the current directory\n",
    "    for file_name in os.listdir(directory):\n",
    "        # Check if the file is a .zip archive\n",
    "        if file_name.endswith('.zip'):\n",
    "            zip_path = os.path.join(directory, file_name)\n",
    "            try:\n",
    "                # Open and extract the zip file\n",
    "                with zipfile.ZipFile(zip_path, 'r') as zip_ref:\n",
    "                    print(f\"Extracting {file_name}...\")\n",
    "                    zip_ref.extractall(directory)\n",
    "                    print(f\"{file_name} extracted successfully!\")\n",
    "            except zipfile.BadZipFile:\n",
    "                print(f\"Error: {file_name} is not a valid zip file.\")\n",
    "            except Exception as e:\n",
    "                print(f\"Failed to extract {file_name}: {e}\")\n",
    "\n",
    "if __name__ == \"__main__\":\n",
    "    current_directory = os.getcwd()\n",
    "    extract_zip_files(current_directory)"
   ]
  },
  {
   "cell_type": "code",
   "execution_count": null,
   "metadata": {},
   "outputs": [],
   "source": []
  }
 ],
 "metadata": {
  "kernelspec": {
   "display_name": "Python 3",
   "language": "python",
   "name": "python3"
  },
  "language_info": {
   "codemirror_mode": {
    "name": "ipython",
    "version": 3
   },
   "file_extension": ".py",
   "mimetype": "text/x-python",
   "name": "python",
   "nbconvert_exporter": "python",
   "pygments_lexer": "ipython3",
   "version": "3.10.7"
  }
 },
 "nbformat": 4,
 "nbformat_minor": 2
}
