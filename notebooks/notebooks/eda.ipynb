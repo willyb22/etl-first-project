{
 "cells": [
  {
   "cell_type": "code",
   "execution_count": 1,
   "id": "0b50adb2-2c94-436e-aa42-223c58caaf7e",
   "metadata": {},
   "outputs": [],
   "source": [
    "import numpy as np\n",
    "import pandas as pd\n",
    "import matplotlib.pyplot as plt\n",
    "import pandas as pd\n",
    "from sqlalchemy import create_engine, inspect"
   ]
  },
  {
   "cell_type": "code",
   "execution_count": 2,
   "id": "59592618-9a06-4b66-8c85-66037393c83f",
   "metadata": {},
   "outputs": [],
   "source": [
    "from secret import DESTINATION_DB_URL"
   ]
  },
  {
   "cell_type": "code",
   "execution_count": 7,
   "id": "80fb5a74-ec7c-4794-b0eb-562303d78dec",
   "metadata": {},
   "outputs": [
    {
     "data": {
      "text/plain": [
       "['customers',\n",
       " 'orders',\n",
       " 'orderlines',\n",
       " 'products',\n",
       " 'stabcensus',\n",
       " 'calendar',\n",
       " 'campaigns']"
      ]
     },
     "execution_count": 7,
     "metadata": {},
     "output_type": "execute_result"
    }
   ],
   "source": [
    "# Check the tables that are available in destination_db\n",
    "engine = create_engine(DESTINATION_DB_URL)\n",
    "inspector = inspect(engine)\n",
    "inspector.get_table_names()"
   ]
  },
  {
   "cell_type": "code",
   "execution_count": 6,
   "id": "80e280d0-4df1-437a-a0f1-d9e55701d98e",
   "metadata": {},
   "outputs": [
    {
     "data": {
      "text/html": [
       "<div>\n",
       "<style scoped>\n",
       "    .dataframe tbody tr th:only-of-type {\n",
       "        vertical-align: middle;\n",
       "    }\n",
       "\n",
       "    .dataframe tbody tr th {\n",
       "        vertical-align: top;\n",
       "    }\n",
       "\n",
       "    .dataframe thead th {\n",
       "        text-align: right;\n",
       "    }\n",
       "</style>\n",
       "<table border=\"1\" class=\"dataframe\">\n",
       "  <thead>\n",
       "    <tr style=\"text-align: right;\">\n",
       "      <th></th>\n",
       "      <th>orderid</th>\n",
       "      <th>numorderlines</th>\n",
       "      <th>numunits</th>\n",
       "      <th>paymenttype</th>\n",
       "      <th>totalprice</th>\n",
       "      <th>state</th>\n",
       "      <th>city</th>\n",
       "      <th>orderdate</th>\n",
       "      <th>campaignid</th>\n",
       "    </tr>\n",
       "  </thead>\n",
       "  <tbody>\n",
       "    <tr>\n",
       "      <th>63762</th>\n",
       "      <td>1057334</td>\n",
       "      <td>1</td>\n",
       "      <td>2</td>\n",
       "      <td>MC</td>\n",
       "      <td>$23.30</td>\n",
       "      <td>NY</td>\n",
       "      <td>WHITE PLAINS</td>\n",
       "      <td>2012-05-24</td>\n",
       "      <td>2141</td>\n",
       "    </tr>\n",
       "    <tr>\n",
       "      <th>166825</th>\n",
       "      <td>1417215</td>\n",
       "      <td>1</td>\n",
       "      <td>1</td>\n",
       "      <td>MC</td>\n",
       "      <td>$15.00</td>\n",
       "      <td>LA</td>\n",
       "      <td>GRETNA</td>\n",
       "      <td>2015-10-27</td>\n",
       "      <td>2114</td>\n",
       "    </tr>\n",
       "    <tr>\n",
       "      <th>171419</th>\n",
       "      <td>1438139</td>\n",
       "      <td>3</td>\n",
       "      <td>2</td>\n",
       "      <td>VI</td>\n",
       "      <td>$27.00</td>\n",
       "      <td>AZ</td>\n",
       "      <td>TUCSON</td>\n",
       "      <td>2015-12-01</td>\n",
       "      <td>2141</td>\n",
       "    </tr>\n",
       "    <tr>\n",
       "      <th>172148</th>\n",
       "      <td>1441147</td>\n",
       "      <td>2</td>\n",
       "      <td>2</td>\n",
       "      <td>MC</td>\n",
       "      <td>$17.05</td>\n",
       "      <td>NV</td>\n",
       "      <td>LAS VEGAS</td>\n",
       "      <td>2015-12-03</td>\n",
       "      <td>2141</td>\n",
       "    </tr>\n",
       "    <tr>\n",
       "      <th>70495</th>\n",
       "      <td>1068755</td>\n",
       "      <td>1</td>\n",
       "      <td>1</td>\n",
       "      <td>DB</td>\n",
       "      <td>$0.00</td>\n",
       "      <td>CO</td>\n",
       "      <td>WESTMINISTER</td>\n",
       "      <td>2011-10-02</td>\n",
       "      <td>2141</td>\n",
       "    </tr>\n",
       "  </tbody>\n",
       "</table>\n",
       "</div>"
      ],
      "text/plain": [
       "        orderid  numorderlines  numunits paymenttype totalprice state  \\\n",
       "63762   1057334              1         2          MC     $23.30    NY   \n",
       "166825  1417215              1         1          MC     $15.00    LA   \n",
       "171419  1438139              3         2          VI     $27.00    AZ   \n",
       "172148  1441147              2         2          MC     $17.05    NV   \n",
       "70495   1068755              1         1          DB      $0.00    CO   \n",
       "\n",
       "                city   orderdate  campaignid  \n",
       "63762   WHITE PLAINS  2012-05-24        2141  \n",
       "166825        GRETNA  2015-10-27        2114  \n",
       "171419        TUCSON  2015-12-01        2141  \n",
       "172148     LAS VEGAS  2015-12-03        2141  \n",
       "70495   WESTMINISTER  2011-10-02        2141  "
      ]
     },
     "metadata": {},
     "output_type": "display_data"
    }
   ],
   "source": [
    "query = \"\"\"\n",
    "select * from orders\n",
    "\"\"\"\n",
    "df = pd.read_sql(query, engine)\n",
    "display(df.sample(5))"
   ]
  },
  {
   "cell_type": "code",
   "execution_count": null,
   "id": "d7d2eb20-24e3-4f1d-95c2-495f2c686df6",
   "metadata": {},
   "outputs": [],
   "source": []
  }
 ],
 "metadata": {
  "kernelspec": {
   "display_name": "Python 3 (ipykernel)",
   "language": "python",
   "name": "python3"
  },
  "language_info": {
   "codemirror_mode": {
    "name": "ipython",
    "version": 3
   },
   "file_extension": ".py",
   "mimetype": "text/x-python",
   "name": "python",
   "nbconvert_exporter": "python",
   "pygments_lexer": "ipython3",
   "version": "3.9.20"
  }
 },
 "nbformat": 4,
 "nbformat_minor": 5
}
